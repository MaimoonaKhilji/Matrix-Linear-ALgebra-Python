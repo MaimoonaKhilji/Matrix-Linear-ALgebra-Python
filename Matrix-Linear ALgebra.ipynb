{
 "cells": [
  {
   "cell_type": "markdown",
   "metadata": {},
   "source": [
    "# Linear Algebra"
   ]
  },
  {
   "cell_type": "code",
   "execution_count": 2,
   "metadata": {},
   "outputs": [],
   "source": [
    "import numpy as np"
   ]
  },
  {
   "cell_type": "markdown",
   "metadata": {},
   "source": [
    "# Matrix\n",
    "\n",
    "The arrangement of data in the form rows and columns enclosed in a square brackets is called Matrix."
   ]
  },
  {
   "cell_type": "markdown",
   "metadata": {},
   "source": [
    "### Creating Matrices"
   ]
  },
  {
   "cell_type": "code",
   "execution_count": 3,
   "metadata": {},
   "outputs": [
    {
     "name": "stdout",
     "output_type": "stream",
     "text": [
      "[[1 2]\n",
      " [3 4]]\n"
     ]
    }
   ],
   "source": [
    "# method -I\n",
    "A = np.mat([[1,2], [3,4]])\n",
    "print(A)"
   ]
  },
  {
   "cell_type": "code",
   "execution_count": 4,
   "metadata": {
    "scrolled": false
   },
   "outputs": [
    {
     "name": "stdout",
     "output_type": "stream",
     "text": [
      "[[1 2 4]\n",
      " [3 4 5]]\n"
     ]
    }
   ],
   "source": [
    "# Method-II\n",
    "B = np.array([[1,2,4],[3,4,5]])\n",
    "print(B)"
   ]
  },
  {
   "cell_type": "markdown",
   "metadata": {},
   "source": [
    "### order of MAtrix"
   ]
  },
  {
   "cell_type": "markdown",
   "metadata": {},
   "source": [
    "We can use numpy.shape() function to get the dimension or order of a matrix. It returns a tuple containing the number of rows (m) and the number of columns (n) of a matrix."
   ]
  },
  {
   "cell_type": "code",
   "execution_count": 5,
   "metadata": {},
   "outputs": [
    {
     "data": {
      "text/plain": [
       "(2, 3)"
      ]
     },
     "execution_count": 5,
     "metadata": {},
     "output_type": "execute_result"
    }
   ],
   "source": [
    "np.shape(B)"
   ]
  },
  {
   "cell_type": "code",
   "execution_count": 6,
   "metadata": {},
   "outputs": [
    {
     "name": "stdout",
     "output_type": "stream",
     "text": [
      "order:  row x column:    2  x  3\n"
     ]
    }
   ],
   "source": [
    "print(\"order:  row x column:   \",B.shape[0],\" x \",B.shape[1])"
   ]
  },
  {
   "cell_type": "markdown",
   "metadata": {},
   "source": [
    "###### No. of Elements in a MAtrix"
   ]
  },
  {
   "cell_type": "code",
   "execution_count": 7,
   "metadata": {},
   "outputs": [
    {
     "data": {
      "text/plain": [
       "6"
      ]
     },
     "execution_count": 7,
     "metadata": {},
     "output_type": "execute_result"
    }
   ],
   "source": [
    "np.size(B)"
   ]
  },
  {
   "cell_type": "code",
   "execution_count": 8,
   "metadata": {
    "scrolled": true
   },
   "outputs": [
    {
     "name": "stdout",
     "output_type": "stream",
     "text": [
      "[[1 2 3 4 5]\n",
      " [1 2 3 4 5]\n",
      " [1 2 3 4 5]\n",
      " [1 2 3 4 5]]\n",
      "\n",
      "(rows,columns) :   (4, 5)\n",
      "No. of elements :   20\n"
     ]
    }
   ],
   "source": [
    "# Example:\n",
    "Z = np.array([[1,2,3,4,5],[1,2,3,4,5],[1,2,3,4,5],[1,2,3,4,5]])\n",
    "print(Z)\n",
    "print(\"\\n(rows,columns) :  \",np.shape(Z))\n",
    "print(\"No. of elements :  \",np.size(Z))"
   ]
  },
  {
   "cell_type": "markdown",
   "metadata": {},
   "source": [
    "### Is square matrix or Rectangular Matrix?\n",
    "\n",
    "        Square Matrix => number of rows = number of columns\n",
    "    Rectangular Matrix => numbers of rows != number of columns"
   ]
  },
  {
   "cell_type": "code",
   "execution_count": 9,
   "metadata": {},
   "outputs": [
    {
     "name": "stdout",
     "output_type": "stream",
     "text": [
      "[[1 2]\n",
      " [3 4]]\n",
      "Square Matrix\n"
     ]
    }
   ],
   "source": [
    "def check_Type(A):\n",
    "    (m,n) = np.shape(A)\n",
    "    if not(m==n):\n",
    "        print('Rectangular Matrix')\n",
    "    else:\n",
    "        print('Square Matrix')\n",
    "       \n",
    "    \n",
    "A= np.array([[1,2],[3,4]])\n",
    "print(A)\n",
    "check_Type(A)"
   ]
  },
  {
   "cell_type": "code",
   "execution_count": 10,
   "metadata": {
    "scrolled": true
   },
   "outputs": [
    {
     "name": "stdout",
     "output_type": "stream",
     "text": [
      "[[1 2 3 4]\n",
      " [2 3 4 5]\n",
      " [4 5 6 7]]\n",
      "Rectangular Matrix\n"
     ]
    }
   ],
   "source": [
    "B = np.array([[1,2,3,4],[2,3,4,5],[4,5,6,7]])\n",
    "print(B)\n",
    "check_Type(B)"
   ]
  },
  {
   "cell_type": "markdown",
   "metadata": {},
   "source": [
    "### Null Matrix\n",
    "\n",
    "A matrix in which all entries are zero"
   ]
  },
  {
   "cell_type": "code",
   "execution_count": 11,
   "metadata": {},
   "outputs": [
    {
     "name": "stdout",
     "output_type": "stream",
     "text": [
      "[[0. 0. 0.]\n",
      " [0. 0. 0.]\n",
      " [0. 0. 0.]]\n"
     ]
    }
   ],
   "source": [
    "n = np.zeros((3,3))\n",
    "print(n)"
   ]
  },
  {
   "cell_type": "code",
   "execution_count": 15,
   "metadata": {},
   "outputs": [
    {
     "name": "stdout",
     "output_type": "stream",
     "text": [
      "[[0. 0. 0. 0. 0.]\n",
      " [0. 0. 0. 0. 0.]\n",
      " [0. 0. 0. 0. 0.]\n",
      " [0. 0. 0. 0. 0.]]\n"
     ]
    }
   ],
   "source": [
    "print(np.zeros((4,5)))"
   ]
  },
  {
   "cell_type": "markdown",
   "metadata": {},
   "source": [
    "### is null matrix?"
   ]
  },
  {
   "cell_type": "code",
   "execution_count": 16,
   "metadata": {},
   "outputs": [
    {
     "name": "stdout",
     "output_type": "stream",
     "text": [
      "[[0. 0. 0.]\n",
      " [0. 0. 0.]\n",
      " [0. 0. 0.]]\n",
      "Null Matrix\n"
     ]
    }
   ],
   "source": [
    "def check_null(A):\n",
    "    if not np.any(A):\n",
    "        print('Null Matrix')\n",
    "    else:\n",
    "        print('Not null')\n",
    "        \n",
    "n = np.zeros((3,3))\n",
    "print(n)\n",
    "check_null(n)"
   ]
  },
  {
   "cell_type": "code",
   "execution_count": 17,
   "metadata": {},
   "outputs": [
    {
     "name": "stdout",
     "output_type": "stream",
     "text": [
      "[[1 2 3]\n",
      " [0 0 0]\n",
      " [2 3 4]]\n",
      "Not null\n"
     ]
    }
   ],
   "source": [
    "f = np.array([[1,2,3],[0,0,0],[2,3,4]])\n",
    "print(f)\n",
    "check_null(f)"
   ]
  },
  {
   "cell_type": "markdown",
   "metadata": {},
   "source": [
    "### Diagnol Matrix\n",
    "\n",
    "A square matrix in which all the entries except those on main diagnol are zero"
   ]
  },
  {
   "cell_type": "code",
   "execution_count": 18,
   "metadata": {},
   "outputs": [
    {
     "name": "stdout",
     "output_type": "stream",
     "text": [
      "Matrix C1:\n",
      "[[ 4  0  0]\n",
      " [ 0  5  0]\n",
      " [ 0  0 -3]]\n",
      "\n",
      "Matrix C2:\n",
      "[[ 4  0  0]\n",
      " [ 0  5  0]\n",
      " [ 0  0 -3]]\n"
     ]
    }
   ],
   "source": [
    "C1 = np.array([[4,0,0],[0,5,0],[0,0,-3]])\n",
    "C2 = np.diag([4,5,-3])\n",
    "\n",
    "print('Matrix C1:')\n",
    "print(C1)\n",
    "print('\\nMatrix C2:')\n",
    "print(C2)\n"
   ]
  },
  {
   "cell_type": "markdown",
   "metadata": {},
   "source": [
    "### is Diagnol?"
   ]
  },
  {
   "cell_type": "code",
   "execution_count": 19,
   "metadata": {},
   "outputs": [
    {
     "name": "stdout",
     "output_type": "stream",
     "text": [
      "[[ 4  0  0]\n",
      " [ 0  5  0]\n",
      " [ 0  0 -3]] \n",
      "\n",
      "Diagonal Matrix\n"
     ]
    }
   ],
   "source": [
    "def check_diag(A):\n",
    "    if np.array_equal(A,np.diag(np.diagonal(A))):\n",
    "        print('Diagonal Matrix')\n",
    "    else:\n",
    "        print('--')\n",
    "\n",
    "        \n",
    "print(C1,\"\\n\")\n",
    "check_diag(C1)"
   ]
  },
  {
   "cell_type": "markdown",
   "metadata": {},
   "source": [
    "### Accessing diagnol elements"
   ]
  },
  {
   "cell_type": "code",
   "execution_count": 20,
   "metadata": {},
   "outputs": [
    {
     "name": "stdout",
     "output_type": "stream",
     "text": [
      "[[1 2 3]\n",
      " [4 5 6]\n",
      " [7 8 9]]\n",
      "\n",
      "Diagonal elements of matrix A: \n",
      "[1 5 9]\n"
     ]
    }
   ],
   "source": [
    "A = np.array([[1,2,3],[4,5,6],[7,8,9]])\n",
    "print(A)\n",
    "print('\\nDiagonal elements of matrix A: ')\n",
    "print(np.diagonal(A))   # or print(A.diagonal())"
   ]
  },
  {
   "cell_type": "markdown",
   "metadata": {},
   "source": [
    "### Scalar MAtrix\n",
    "\n",
    "A square matrix in which all the elements in a main diagnol are same and remaining entries are zero"
   ]
  },
  {
   "cell_type": "code",
   "execution_count": 21,
   "metadata": {},
   "outputs": [
    {
     "name": "stdout",
     "output_type": "stream",
     "text": [
      "Scalar Matrix S1: \n",
      "[[5 0 0]\n",
      " [0 5 0]\n",
      " [0 0 5]]\n"
     ]
    }
   ],
   "source": [
    "S1 = np.diag([5,5,5])\n",
    "\n",
    "print('Scalar Matrix S1: ')\n",
    "print(S1)"
   ]
  },
  {
   "cell_type": "markdown",
   "metadata": {},
   "source": [
    "### Identity MAtrix\n",
    "\n",
    "A scalar matrix in which all the elements on main diagonal are 1."
   ]
  },
  {
   "cell_type": "code",
   "execution_count": 22,
   "metadata": {},
   "outputs": [
    {
     "name": "stdout",
     "output_type": "stream",
     "text": [
      "3rd order Identity Matrix\n",
      "[[1. 0. 0.]\n",
      " [0. 1. 0.]\n",
      " [0. 0. 1.]]\n",
      "4th order Identity Matrix\n",
      "[[1. 0. 0. 0.]\n",
      " [0. 1. 0. 0.]\n",
      " [0. 0. 1. 0.]\n",
      " [0. 0. 0. 1.]]\n"
     ]
    }
   ],
   "source": [
    "I3 = np.identity(3)\n",
    "I4 = np.eye(4)     # Similar to MATLAB\n",
    "\n",
    "print('3rd order Identity Matrix')\n",
    "print(I3)\n",
    "print('4th order Identity Matrix')\n",
    "print(I4)"
   ]
  },
  {
   "cell_type": "code",
   "execution_count": 23,
   "metadata": {},
   "outputs": [
    {
     "name": "stdout",
     "output_type": "stream",
     "text": [
      "[[1. 0. 0.]\n",
      " [0. 1. 0.]\n",
      " [0. 0. 1.]]\n",
      "It is Identity Matrix of order 3\n",
      "\n",
      "\n",
      " [[5 0 0]\n",
      " [0 5 0]\n",
      " [0 0 5]]\n",
      "Not identity matrix\n"
     ]
    }
   ],
   "source": [
    "def check_identity(A):\n",
    "    m = np.shape(A)[0]\n",
    "    if np.array_equal(A,np.diag(np.diagonal(A))) and \\\n",
    "       (len(np.unique(np.diagonal(A)))==1) and \\\n",
    "        A[0,0]==1:\n",
    "        print(f'It is Identity Matrix of order {m}')\n",
    "    else:\n",
    "        print('Not identity matrix')\n",
    "            \n",
    "print(I3)\n",
    "check_identity(I3)\n",
    "S1 = np.diag([5,5,5])\n",
    "print(\"\\n\\n\",S1)\n",
    "check_identity(S1)"
   ]
  },
  {
   "cell_type": "markdown",
   "metadata": {},
   "source": [
    "### Transpose of a Matrix\n",
    "\n",
    "A matrix that is obtained by interchanging of rows and columns of a given matrix is known as Transpose of that matrix."
   ]
  },
  {
   "cell_type": "markdown",
   "metadata": {},
   "source": [
    "##### Methods of Transpose\n",
    "      i) np.transpose(A)     # First Method\n",
    "     ii) A.transpose()       # Second Method\n",
    "    iii) A.T                 # Shortcut Method"
   ]
  },
  {
   "cell_type": "code",
   "execution_count": 24,
   "metadata": {
    "scrolled": true
   },
   "outputs": [
    {
     "name": "stdout",
     "output_type": "stream",
     "text": [
      "[[1 2 3 4]\n",
      " [5 6 7 8]]\n",
      "\n",
      "\t\t Transpose of above matrix: \n",
      "\n",
      "[[1 5]\n",
      " [2 6]\n",
      " [3 7]\n",
      " [4 8]]\n"
     ]
    }
   ],
   "source": [
    "C = np.array([[1,2,3,4],[5,6,7,8]])\n",
    "print(C)\n",
    "print(\"\\n\\t\\t Transpose of above matrix: \\n\")\n",
    "print(np.transpose(C))"
   ]
  },
  {
   "cell_type": "markdown",
   "metadata": {},
   "source": [
    "### Symmetric and SKew Symmetric\n",
    "\n",
    "        Symmetric =>  Transpose of A = A\n",
    "    Skew Symmetric => Transpose of A = -A"
   ]
  },
  {
   "cell_type": "code",
   "execution_count": 25,
   "metadata": {},
   "outputs": [],
   "source": [
    "def check_symmetric(A):\n",
    "    if np.array_equal(A,A.T):\n",
    "        print('is Symmetric Matrix')\n",
    "        \n",
    "    elif np.array_equal(-A,A.T):\n",
    "        print(\"is Skew SYmmetric\")\n",
    "    else:\n",
    "        print('--')"
   ]
  },
  {
   "cell_type": "code",
   "execution_count": 26,
   "metadata": {},
   "outputs": [
    {
     "name": "stdout",
     "output_type": "stream",
     "text": [
      "Matrix : \n",
      "[[ 2 -5  8]\n",
      " [-5  3  6]\n",
      " [ 8  6  1]] \n",
      "\n",
      "is Symmetric Matrix\n"
     ]
    }
   ],
   "source": [
    "SM = np.array([[2,-5,8],[-5,3,6],[8,6,1]])\n",
    "print('Matrix : ')\n",
    "print(SM,\"\\n\")\n",
    "check_symmetric(SM)"
   ]
  },
  {
   "cell_type": "code",
   "execution_count": 27,
   "metadata": {},
   "outputs": [
    {
     "name": "stdout",
     "output_type": "stream",
     "text": [
      "Matrix\n",
      "[[  0  -2  11]\n",
      " [  2   0   5]\n",
      " [-11  -5   0]] \n",
      "\n",
      "is Skew SYmmetric\n"
     ]
    }
   ],
   "source": [
    "A = np.array([[0,-2,11],[2,0,5],[-11,-5,0]])\n",
    "print('Matrix')\n",
    "print(A,\"\\n\")\n",
    "check_symmetric(A)"
   ]
  },
  {
   "cell_type": "markdown",
   "metadata": {},
   "source": [
    "### Addition"
   ]
  },
  {
   "cell_type": "code",
   "execution_count": 28,
   "metadata": {},
   "outputs": [
    {
     "name": "stdout",
     "output_type": "stream",
     "text": [
      "   MAtrix  A: \n",
      "[[1 2 3 4]\n",
      " [5 6 7 8]]\n",
      "\n",
      "  Matrix   B: \n",
      "[[5 6 7 8]\n",
      " [1 2 3 4]]\n",
      "\n",
      " A+B \n",
      "[[ 6  8 10 12]\n",
      " [ 6  8 10 12]]\n"
     ]
    }
   ],
   "source": [
    "A = np.array([[1,2,3,4],[5,6,7,8]])\n",
    "B = np.array([[5,6,7,8],[1,2,3,4]])\n",
    "print(\"   MAtrix  A: \")\n",
    "print(A)\n",
    "\n",
    "print(\"\\n  Matrix   B: \")\n",
    "print(B)\n",
    "\n",
    "print(\"\\n A+B \")\n",
    "sum = A+B\n",
    "print(sum)"
   ]
  },
  {
   "cell_type": "markdown",
   "metadata": {},
   "source": [
    "### SUbtraction"
   ]
  },
  {
   "cell_type": "code",
   "execution_count": 29,
   "metadata": {},
   "outputs": [
    {
     "name": "stdout",
     "output_type": "stream",
     "text": [
      "   MAtrix  A: \n",
      "[[ 5  6  7  8]\n",
      " [13  9 11 12]]\n",
      "\n",
      "  Matrix   B: \n",
      "[[3 2 1 5]\n",
      " [5 6 7 4]]\n",
      "\n",
      " B-A \n",
      "[[2 4 6 3]\n",
      " [8 3 4 8]]\n"
     ]
    }
   ],
   "source": [
    "A = np.array([[5,6,7,8],[13,9,11,12]])\n",
    "B = np.array([[3,2,1,5],[5,6,7,4]])\n",
    "print(\"   MAtrix  A: \")\n",
    "print(A)\n",
    "\n",
    "print(\"\\n  Matrix   B: \")\n",
    "print(B)\n",
    "\n",
    "print(\"\\n B-A \")\n",
    "sub = A-B\n",
    "print(sub)"
   ]
  },
  {
   "cell_type": "markdown",
   "metadata": {},
   "source": [
    "### Multiply a Matrix by a Scalar"
   ]
  },
  {
   "cell_type": "code",
   "execution_count": 30,
   "metadata": {},
   "outputs": [
    {
     "name": "stdout",
     "output_type": "stream",
     "text": [
      "Matrix A:\n",
      "[[1 2 3]\n",
      " [4 5 6]]\n",
      "\n",
      "Matrix A multiplied by scalar:\n",
      "[[ 3  6  9]\n",
      " [12 15 18]]\n"
     ]
    }
   ],
   "source": [
    "A = np.array([[1,2,3],[4,5,6]])\n",
    "\n",
    "print('Matrix A:')\n",
    "print(A)\n",
    "\n",
    "print('\\nMatrix A multiplied by scalar:')\n",
    "print(3*A)"
   ]
  },
  {
   "cell_type": "markdown",
   "metadata": {},
   "source": [
    "### Matrix Multiplication"
   ]
  },
  {
   "cell_type": "code",
   "execution_count": 31,
   "metadata": {},
   "outputs": [
    {
     "name": "stdout",
     "output_type": "stream",
     "text": [
      "Matrix A (2x3):\n",
      "[[1 2 3]\n",
      " [4 5 6]]\n",
      "Matrix B (3x2):\n",
      "[[ 7 10]\n",
      " [ 8 11]\n",
      " [ 9 12]]\n",
      "\n",
      " Matrix multiplication AB (2x2):\n",
      "[[ 50  68]\n",
      " [122 167]]\n",
      "\n",
      " Matrix multiplication BA (3x3):\n",
      "[[47 64 81]\n",
      " [52 71 90]\n",
      " [57 78 99]]\n",
      "\n",
      "-------------------------\n",
      "\n",
      "Matrix multiplication AB (2x2) using @ operator:\n",
      "[[ 50  68]\n",
      " [122 167]]\n",
      "Matrix multiplication BA (3x3) using @ operator:\n",
      "[[47 64 81]\n",
      " [52 71 90]\n",
      " [57 78 99]]\n",
      "\n",
      " It also shows that AB != BA\n"
     ]
    }
   ],
   "source": [
    "A = np.array([[1,2,3],[4,5,6]])\n",
    "B = np.array([[7,10],[8,11],[9,12]])\n",
    "\n",
    "print('Matrix A (2x3):')\n",
    "print(A)\n",
    "print('Matrix B (3x2):')\n",
    "print(B)    \n",
    "\n",
    "print('\\n Matrix multiplication AB (2x2):')\n",
    "print(np.matmul(A,B))\n",
    "\n",
    "print('\\n Matrix multiplication BA (3x3):')\n",
    "print(np.matmul(B,A))\n",
    "\n",
    "print('\\n-------------------------\\n')\n",
    "print('Matrix multiplication AB (2x2) using @ operator:')\n",
    "print(A@B)\n",
    "\n",
    "print('Matrix multiplication BA (3x3) using @ operator:')\n",
    "print(B@A)\n",
    "\n",
    "print('\\n It also shows that AB != BA')"
   ]
  },
  {
   "cell_type": "markdown",
   "metadata": {},
   "source": [
    "### Division"
   ]
  },
  {
   "cell_type": "code",
   "execution_count": 32,
   "metadata": {},
   "outputs": [
    {
     "name": "stdout",
     "output_type": "stream",
     "text": [
      "   MAtrix  A: \n",
      "[[10 12 14 16]\n",
      " [ 5  6  9  8]]\n",
      "\n",
      "  Matrix   B: \n",
      "[[2 3 7 8]\n",
      " [1 2 3 4]]\n",
      "\n",
      " A/B \n",
      "[[5 4 2 2]\n",
      " [5 3 3 2]]\n"
     ]
    }
   ],
   "source": [
    "A = np.array([[10,12,14,16],[5,6,9,8]])\n",
    "B = np.array([[2,3,7,8],[1,2,3,4]])\n",
    "print(\"   MAtrix  A: \")\n",
    "print(A)\n",
    "\n",
    "print(\"\\n  Matrix   B: \")\n",
    "print(B)\n",
    "\n",
    "print(\"\\n A/B \")\n",
    "sum = A//B\n",
    "print(sum)"
   ]
  },
  {
   "cell_type": "markdown",
   "metadata": {},
   "source": [
    "### Determinant\n",
    "         _       _\n",
    "        |  5   2  |\n",
    "    A = |_ 3   4 _|\n",
    "    \n",
    "    Determinant of A = det(A ) = (5 x 4 ) - (2x3) = 20 - 6 = 14"
   ]
  },
  {
   "cell_type": "code",
   "execution_count": 33,
   "metadata": {},
   "outputs": [
    {
     "name": "stdout",
     "output_type": "stream",
     "text": [
      "matrix A:\n",
      "[[5 2]\n",
      " [3 4]]\n",
      "determinant:  14.0\n"
     ]
    }
   ],
   "source": [
    "A = np.array([[5,2],[3,4]])\n",
    "print(\"matrix A:\")\n",
    "print(A)\n",
    "\n",
    "det = np.linalg.det(A)\n",
    "print(\"determinant: \", round(det))"
   ]
  },
  {
   "cell_type": "code",
   "execution_count": 34,
   "metadata": {},
   "outputs": [
    {
     "name": "stdout",
     "output_type": "stream",
     "text": [
      " Matrix: \n",
      "[[ 9  7  6  5 33  2]\n",
      " [ 0  1  3  0  8  7]\n",
      " [ 1  0  2  3  5  4]\n",
      " [ 3  2  0  1  3  7]\n",
      " [ 1  9  2  0  1  3]\n",
      " [ 1  2  3  4  5  6]]\n",
      "\n",
      " Shape:  (6, 6)\n",
      "\n",
      " Determinant is : 132.0\n"
     ]
    }
   ],
   "source": [
    "# higher order matrices\n",
    "R = np.array([[9,7,6,5,33,2],[0,1,3,0,8,7],[1,0,2,3,5,4],[3,2,0,1,3,7],[1,9,2,0,1,3],[1,2,3,4,5,6]])\n",
    "print(\" Matrix: \")\n",
    "print(R)\n",
    "print(\"\\n Shape: \",np.shape(R))\n",
    "det_R = np.linalg.det(R)\n",
    "print(\"\\n Determinant is :\",round(det_R))"
   ]
  },
  {
   "cell_type": "markdown",
   "metadata": {},
   "source": [
    "### Minors \n",
    "\n",
    "#### Minor of Element of a Matrix:\n",
    "        \n",
    "        if Aij is an entry of square matrix \"A\", then its Minor ( Mij) is obtained by taking the determinant of the matrix    by ignoring the row and column in which that element lies.\n",
    "\n",
    "    "
   ]
  },
  {
   "cell_type": "code",
   "execution_count": 35,
   "metadata": {},
   "outputs": [],
   "source": [
    "# minor of single element of a matrix\n",
    "def minor_of_element(A,i,j):\n",
    "    sub_A = np.delete(A,i-1,0)     # Delete i-th row\n",
    " #   print(\"after deleting row \\n\", sub_A)\n",
    "    sub_A = np.delete(sub_A,j-1,1) # Delete j-th column\n",
    " #   print(\"after deleting column \\n\",sub_A)\n",
    "    M_ij = np.linalg.det(sub_A)    # Minor of the element at ith row and jth column\n",
    "    return np.around(M_ij,decimals=3)  # Rounding the value"
   ]
  },
  {
   "cell_type": "code",
   "execution_count": 36,
   "metadata": {
    "scrolled": true
   },
   "outputs": [
    {
     "name": "stdout",
     "output_type": "stream",
     "text": [
      "Matrix P:\n",
      "[[1 3 5]\n",
      " [2 0 4]\n",
      " [4 2 7]]\n",
      "Minor of the element \"  3 \" at 1st row and 1st column:\n",
      "-2.0\n"
     ]
    }
   ],
   "source": [
    "P = np.array([[1,3,5],[2,0,4],[4,2,7]])\n",
    "print('Matrix P:')\n",
    "print(P)\n",
    "print('Minor of the element \" ',P[0][1]  ,'\" at 1st row and 1st column:')\n",
    "print(minor_of_element(P,1,2))"
   ]
  },
  {
   "cell_type": "markdown",
   "metadata": {},
   "source": [
    "#### Minor matrix"
   ]
  },
  {
   "cell_type": "code",
   "execution_count": 37,
   "metadata": {},
   "outputs": [],
   "source": [
    "# minor matrix\n",
    "def minor_matrix(A):\n",
    "    m = np.shape(A)[0]    # Order of the matrix\n",
    "    M_A = np.zeros([m,m])   # Initializing the minor matrix with zeros\n",
    "    for i in range(1,m+1):\n",
    "        for j in range(1,m+1):\n",
    "            M_A[i-1,j-1] = minor_of_element(A,i,j)\n",
    "    return M_A"
   ]
  },
  {
   "cell_type": "code",
   "execution_count": 38,
   "metadata": {
    "scrolled": true
   },
   "outputs": [
    {
     "name": "stdout",
     "output_type": "stream",
     "text": [
      "Matrix P:\n",
      "[[1 3 5]\n",
      " [2 0 4]\n",
      " [4 2 7]]\n",
      "\n",
      " Minor Matrix:\n",
      "\n",
      "[[ -8.  -2.   4.]\n",
      " [ 11. -13. -10.]\n",
      " [ 12.  -6.  -6.]]\n"
     ]
    }
   ],
   "source": [
    "P = np.array([[1,3,5],[2,0,4],[4,2,7]])\n",
    "print('Matrix P:')\n",
    "print(P)\n",
    "print('\\n Minor Matrix:\\n')\n",
    "print(minor_matrix(P))"
   ]
  },
  {
   "cell_type": "markdown",
   "metadata": {},
   "source": [
    "### CoFactors of a matrix\n",
    "   \n",
    "CoFactor:\n",
    "        \n",
    "        If Aij is any element of a matrix, then its cofactor is given by:\n",
    "                Cij = (-1)^(i+j) . Mij\n",
    "    "
   ]
  },
  {
   "cell_type": "code",
   "execution_count": 39,
   "metadata": {},
   "outputs": [],
   "source": [
    "def cofactor_matrix(A):\n",
    "    m = np.shape(A)[0]   # Order of the matrix\n",
    "    C_A = np.zeros([m,m])   # Initializing the cofactor matrix with zeros\n",
    "    for i in range(1,m+1):\n",
    "        for j in range(1,m+1):\n",
    "            C_A[i-1,j-1] = pow(-1,i+j)*minor_of_element(A,i,j)\n",
    "    return C_A\n",
    "\n"
   ]
  },
  {
   "cell_type": "code",
   "execution_count": 40,
   "metadata": {},
   "outputs": [
    {
     "name": "stdout",
     "output_type": "stream",
     "text": [
      "Matrix P:\n",
      "[[1 3 5]\n",
      " [2 0 4]\n",
      " [4 2 7]]\n",
      "\n",
      " Cofactor Matrix:\n",
      "\n",
      "[[ -8.   2.   4.]\n",
      " [-11. -13.  10.]\n",
      " [ 12.   6.  -6.]]\n"
     ]
    }
   ],
   "source": [
    "P = np.array([[1,3,5],[2,0,4],[4,2,7]])\n",
    "print('Matrix P:')\n",
    "print(P)\n",
    "print('\\n Cofactor Matrix:\\n')\n",
    "print(cofactor_matrix(P))"
   ]
  },
  {
   "cell_type": "markdown",
   "metadata": {},
   "source": [
    "### Checking for the Singularity of a Matrix Using Python\n",
    "\n",
    "    Matrix \"A\" is Singular, If det(A) = 0\n",
    "    Matrix \"A\" is Non-Singular, If det(A) != 0"
   ]
  },
  {
   "cell_type": "code",
   "execution_count": 41,
   "metadata": {},
   "outputs": [],
   "source": [
    "def check_singular(A):\n",
    "    if (np.isclose(np.linalg.det(A),0)):\n",
    "        result = \"Matrix is singular because determinant is \"+str(round(np.linalg.det(A)))\n",
    "    \n",
    "    else:\n",
    "        result = \"Matrix is non - singular because determinant is \"+str(round(np.linalg.det(A)))\n",
    "     \n",
    "    return result"
   ]
  },
  {
   "cell_type": "code",
   "execution_count": 42,
   "metadata": {},
   "outputs": [
    {
     "name": "stdout",
     "output_type": "stream",
     "text": [
      "Matrix P:\n",
      "[[1 3 5]\n",
      " [2 0 4]\n",
      " [4 2 7]]\n",
      "Is Matrix P singular:\n",
      "Matrix is non - singular because determinant is 18.0\n",
      "\n",
      "------------------------------\n",
      "\n",
      "Matrix S:\n",
      "[[ 8 -6  2]\n",
      " [-6  7 -4]\n",
      " [ 2 -4  3]]\n",
      "Is Matrix S singular:\n",
      "Matrix is singular because determinant is 0.0\n"
     ]
    }
   ],
   "source": [
    "P = np.array([[1,3,5],[2,0,4],[4,2,7]])\n",
    "S = np.array([[8,-6,2],[-6,7,-4],[2,-4,3]])\n",
    "\n",
    "print('Matrix P:')\n",
    "print(P)\n",
    "print('Is Matrix P singular:')\n",
    "print(check_singular(P))\n",
    "print('\\n------------------------------\\n')\n",
    "\n",
    "print('Matrix S:')\n",
    "print(S)\n",
    "print('Is Matrix S singular:')\n",
    "print(check_singular(S))"
   ]
  },
  {
   "cell_type": "markdown",
   "metadata": {},
   "source": [
    "### Properties of the Determinants Using Python\n",
    "We will validate three properties of the determinants with examples to consolidate our understanding.\n",
    "\n"
   ]
  },
  {
   "cell_type": "markdown",
   "metadata": {},
   "source": [
    "###### 1. The determinant of a matrix and the transpose of a matrix are equal.\n",
    "        |A| = | A.T |"
   ]
  },
  {
   "cell_type": "code",
   "execution_count": 43,
   "metadata": {
    "scrolled": true
   },
   "outputs": [
    {
     "name": "stdout",
     "output_type": "stream",
     "text": [
      " Matrix P:\n",
      "[[1 3 5]\n",
      " [2 0 4]\n",
      " [4 2 7]]\n",
      "\n",
      " Transpose of Matrix P:\n",
      "[[1 2 4]\n",
      " [3 0 2]\n",
      " [5 4 7]]\n",
      "\n",
      " Determinant of Matrix P:\n",
      "18.0\n",
      "\n",
      " Determinant of the Transpose of Matrix P:\n",
      "18.0\n"
     ]
    }
   ],
   "source": [
    "P = np.array([[1,3,5],[2,0,4],[4,2,7]])\n",
    "print(' Matrix P:')\n",
    "print(P)\n",
    "\n",
    "print('\\n Transpose of Matrix P:')\n",
    "print(P.T)\n",
    "\n",
    "print('\\n Determinant of Matrix P:')\n",
    "print(np.around(np.linalg.det(P), decimals=4))   # Rounding the value\n",
    "\n",
    "print('\\n Determinant of the Transpose of Matrix P:')\n",
    "print(np.around(np.linalg.det(P.T), decimals=4))   # Rounding the value\n",
    "\n"
   ]
  },
  {
   "cell_type": "markdown",
   "metadata": {},
   "source": [
    "###### 2. If we interchange two rows or two columns then:\n",
    "            |B| = -|A|"
   ]
  },
  {
   "cell_type": "code",
   "execution_count": 44,
   "metadata": {
    "scrolled": true
   },
   "outputs": [
    {
     "name": "stdout",
     "output_type": "stream",
     "text": [
      "Matrix A:\n",
      "[[3 5 1]\n",
      " [2 4 9]\n",
      " [7 1 6]]\n",
      "Determinant of Matrix A:\n",
      "274.0\n",
      "\n",
      "------------------------------\n",
      "\n",
      "Matrix A':\n",
      "[[2 4 9]\n",
      " [3 5 1]\n",
      " [7 1 6]]\n",
      "Determinant of Matrix A':\n",
      "-274.0\n"
     ]
    }
   ],
   "source": [
    "A = np.array([[3,5,1],[2,4,9],[7,1,6]])\n",
    "A_dash = np.array([[2,4,9],[3,5,1],[7,1,6]])\n",
    "\n",
    "print('Matrix A:')\n",
    "print(A)\n",
    "print('Determinant of Matrix A:')\n",
    "print(np.around(np.linalg.det(A), decimals=4))   # Rounding the value\n",
    "print('\\n------------------------------\\n')\n",
    "\n",
    "print(\"Matrix A':\")\n",
    "print(A_dash)\n",
    "print(\"Determinant of Matrix A':\")\n",
    "print(np.around(np.linalg.det(A_dash),      decimals=4))   # Rounding the value\n"
   ]
  },
  {
   "cell_type": "markdown",
   "metadata": {},
   "source": [
    "##### 3. If any two rows or columns of a matrix are the identical, then the determinant is zero.\n"
   ]
  },
  {
   "cell_type": "code",
   "execution_count": 45,
   "metadata": {
    "scrolled": true
   },
   "outputs": [
    {
     "name": "stdout",
     "output_type": "stream",
     "text": [
      "Matrix A:\n",
      "[[ 2  3  5]\n",
      " [ 2  3  5]\n",
      " [ 7 11 13]]\n",
      "Determinant of Matrix A:\n",
      "0.0\n"
     ]
    }
   ],
   "source": [
    "A = np.array([[2,3,5],[2,3,5],[7,11,13]])\n",
    "\n",
    "print(\"Matrix A:\")\n",
    "print(A)\n",
    "print(\"Determinant of Matrix A:\")\n",
    "print(np.around(np.linalg.det(A), decimals=4))   # Rounding the value"
   ]
  },
  {
   "cell_type": "markdown",
   "metadata": {},
   "source": [
    "### Inverse of a matrix"
   ]
  },
  {
   "cell_type": "code",
   "execution_count": 46,
   "metadata": {
    "scrolled": true
   },
   "outputs": [
    {
     "name": "stdout",
     "output_type": "stream",
     "text": [
      " Matrix A:\n",
      "[[2 4]\n",
      " [3 5]]\n",
      "\n",
      " Inverse of Matrix A:\n",
      "[[-2.5  2. ]\n",
      " [ 1.5 -1. ]]\n"
     ]
    }
   ],
   "source": [
    "from scipy import linalg\n",
    "\n",
    "A = np.array([[2,4],[3,5]])\n",
    "\n",
    "print(\" Matrix A:\")\n",
    "print(A)\n",
    "print(\"\\n Inverse of Matrix A:\")\n",
    "print(linalg.inv(A))               #Inverse"
   ]
  },
  {
   "cell_type": "code",
   "execution_count": 47,
   "metadata": {
    "scrolled": true
   },
   "outputs": [
    {
     "name": "stdout",
     "output_type": "stream",
     "text": [
      "[[1. 0.]\n",
      " [0. 1.]]\n"
     ]
    }
   ],
   "source": [
    "# for verification\n",
    "# ( A ).(inverse of A) = indentity matrix\n",
    "\n",
    "print(np.around(A @ linalg.inv(A), decimals=4))"
   ]
  },
  {
   "cell_type": "markdown",
   "metadata": {},
   "source": [
    "### Echelon Form\n",
    "\n",
    "Matrix will be in Echelon form if the following Two conditions are satisfied:\n",
    "\n",
    "     i. The first non-zero element in each row  lies to the right of the first non-zero element in its preceding rows.\n",
    "    ii. If there is any zero row in a matrix, then it will lie below the non-zero rows."
   ]
  },
  {
   "cell_type": "code",
   "execution_count": 48,
   "metadata": {
    "scrolled": false
   },
   "outputs": [
    {
     "name": "stdout",
     "output_type": "stream",
     "text": [
      " Matrix A: \n",
      "[[1 5 1]\n",
      " [2 1 1]\n",
      " [3 6 2]]\n",
      "\n",
      " Echelon Form\n"
     ]
    },
    {
     "data": {
      "text/latex": [
       "$\\displaystyle \\left[\\begin{matrix}1 & 5 & 1\\\\0 & -9 & -1\\\\0 & 0 & 0\\end{matrix}\\right]$"
      ],
      "text/plain": [
       "Matrix([\n",
       "[1,  5,  1],\n",
       "[0, -9, -1],\n",
       "[0,  0,  0]])"
      ]
     },
     "execution_count": 48,
     "metadata": {},
     "output_type": "execute_result"
    }
   ],
   "source": [
    "from sympy import *\n",
    "A=np.mat([[1,5,1],[2,1,1],[3,6,2]])\n",
    "print(\" Matrix A: \")\n",
    "print(A)\n",
    "print(\"\\n Echelon Form\")\n",
    "Matrix(A).echelon_form()\n"
   ]
  },
  {
   "cell_type": "markdown",
   "metadata": {},
   "source": [
    "### Rank"
   ]
  },
  {
   "cell_type": "code",
   "execution_count": 49,
   "metadata": {},
   "outputs": [
    {
     "name": "stdout",
     "output_type": "stream",
     "text": [
      "Rank :  2\n"
     ]
    }
   ],
   "source": [
    "print(\"Rank : \" ,np.linalg.matrix_rank(A))"
   ]
  },
  {
   "cell_type": "markdown",
   "metadata": {},
   "source": [
    "### Reduced Echelon Form"
   ]
  },
  {
   "cell_type": "code",
   "execution_count": 50,
   "metadata": {
    "scrolled": true
   },
   "outputs": [
    {
     "name": "stdout",
     "output_type": "stream",
     "text": [
      " Matrix A: \n",
      "[[4 2 6]\n",
      " [2 3 4]\n",
      " [4 5 8]]\n",
      "\n",
      " Reduced Echelon Form\n"
     ]
    },
    {
     "data": {
      "text/plain": [
       "(Matrix([\n",
       " [1, 0, 0],\n",
       " [0, 1, 0],\n",
       " [0, 0, 1]]), (0, 1, 2))"
      ]
     },
     "execution_count": 50,
     "metadata": {},
     "output_type": "execute_result"
    }
   ],
   "source": [
    "A=np.mat([[4,2,6],[2,3,4],[4,5,8]])\n",
    "print(\" Matrix A: \")\n",
    "print(A)\n",
    "print(\"\\n Reduced Echelon Form\")\n",
    "Matrix(A).rref()"
   ]
  },
  {
   "cell_type": "markdown",
   "metadata": {},
   "source": [
    "## Solutions of System of Linear Equations"
   ]
  },
  {
   "cell_type": "markdown",
   "metadata": {},
   "source": [
    "##### Linear Equation: \n",
    "\n",
    "    Algebraic equation in which the higher power of all variables is 1.\n",
    "\n",
    "##### System of Linear Equations:\n",
    "\n",
    "    The coolection of linear equations having the same solution of linear equation"
   ]
  },
  {
   "cell_type": "markdown",
   "metadata": {},
   "source": [
    "### *Gauss Elimination Method"
   ]
  },
  {
   "cell_type": "code",
   "execution_count": 51,
   "metadata": {
    "scrolled": true
   },
   "outputs": [
    {
     "name": "stdout",
     "output_type": "stream",
     "text": [
      "Enter number of unknowns: 3\n",
      "Enter Augmented Matrix Coefficients:\n",
      "a[0][0]=1\n",
      "a[0][1]=3\n",
      "a[0][2]=-2\n",
      "a[0][3]=5\n",
      "a[1][0]=3\n",
      "a[1][1]=5\n",
      "a[1][2]=7\n",
      "a[1][3]=8\n",
      "a[2][0]=2\n",
      "a[2][1]=4\n",
      "a[2][2]=5\n",
      "a[2][3]=7\n",
      "\n",
      "\n",
      "[[ 1.  3. -2.  5.]\n",
      " [ 3.  5.  7.  8.]\n",
      " [ 2.  4.  5.  7.]] \n",
      "\n",
      "\n",
      "Required solution is: \n",
      "X1 = -1.80\tX2 = 2.40\tX3 = 0.20\t"
     ]
    }
   ],
   "source": [
    "# Importing NumPy Library\n",
    "import numpy as np\n",
    "import sys\n",
    "\n",
    "# Reading number of unknowns\n",
    "n = int(input('Enter number of unknowns: '))\n",
    "\n",
    "# Making numpy array of n x n+1 size and initializing \n",
    "# to zero for storing augmented matrix\n",
    "a = np.zeros((n,n+1))\n",
    "\n",
    "# Making numpy array of n size and initializing \n",
    "# to zero for storing solution vector\n",
    "x = np.zeros(n)\n",
    "\n",
    "# Reading augmented matrix coefficients\n",
    "print('Enter Augmented Matrix Coefficients:')\n",
    "for i in range(n):\n",
    "    for j in range(n+1):\n",
    "        a[i][j] = float(input( 'a['+str(i)+']['+ str(j)+']='))\n",
    "\n",
    "print(\"\\n\")\n",
    "print(a,\"\\n\")\n",
    "# Applying Gauss Elimination\n",
    "for i in range(n):\n",
    "    if a[i][i] == 0.0:\n",
    "        sys.exit('Divide by zero detected!')\n",
    "        \n",
    "    for j in range(i+1, n):\n",
    "        ratio = a[j][i]/a[i][i]\n",
    "        \n",
    "        for k in range(n+1):\n",
    "            a[j][k] = a[j][k] - ratio * a[i][k]\n",
    "\n",
    "# Back Substitution\n",
    "x[n-1] = a[n-1][n]/a[n-1][n-1]\n",
    "\n",
    "for i in range(n-2,-1,-1):\n",
    "    x[i] = a[i][n]\n",
    "    \n",
    "    for j in range(i+1,n):\n",
    "        x[i] = x[i] - a[i][j]*x[j]\n",
    "    \n",
    "    x[i] = x[i]/a[i][i]\n",
    "\n",
    "# Displaying solution\n",
    "print('\\nRequired solution is: ')\n",
    "for i in range(n):\n",
    "    print('X%d = %0.2f' %(i+1,x[i]), end = '\\t')"
   ]
  },
  {
   "cell_type": "markdown",
   "metadata": {},
   "source": [
    "# *Gauss Jordan Method"
   ]
  },
  {
   "cell_type": "code",
   "execution_count": 52,
   "metadata": {},
   "outputs": [
    {
     "name": "stdout",
     "output_type": "stream",
     "text": [
      "Enter number of unknowns: 3\n",
      "Enter Augmented Matrix Coefficients:\n",
      "a[0][0]=2\n",
      "a[0][1]=3\n",
      "a[0][2]=4\n",
      "a[0][3]=5\n",
      "a[1][0]=6\n",
      "a[1][1]=4\n",
      "a[1][2]=2\n",
      "a[1][3]=1\n",
      "a[2][0]=8\n",
      "a[2][1]=7\n",
      "a[2][2]=9\n",
      "a[2][3]=5\n",
      "\n",
      "\n",
      "[[2. 3. 4. 5.]\n",
      " [6. 4. 2. 1.]\n",
      " [8. 7. 9. 5.]] \n",
      "\n",
      "\n",
      "Required solution is: \n",
      "X1 = -2.03\tX2 = 3.47\tX3 = -0.33\t"
     ]
    }
   ],
   "source": [
    "# Importing NumPy Library\n",
    "import numpy as np\n",
    "import sys\n",
    "\n",
    "# Reading number of unknowns\n",
    "n = int(input('Enter number of unknowns: '))\n",
    "\n",
    "# Making numpy array of n x n+1 size and initializing \n",
    "# to zero for storing augmented matrix\n",
    "a = np.zeros((n,n+1))\n",
    "\n",
    "# Making numpy array of n size and initializing \n",
    "# to zero for storing solution vector\n",
    "x = np.zeros(n)\n",
    "\n",
    "# Reading augmented matrix coefficients\n",
    "print('Enter Augmented Matrix Coefficients:')\n",
    "for i in range(n):\n",
    "    for j in range(n+1):\n",
    "        a[i][j] = float(input( 'a['+str(i)+']['+ str(j)+']='))\n",
    "\n",
    "print(\"\\n\")\n",
    "print(a,\"\\n\")\n",
    "# Applying Gauss Jordan Elimination\n",
    "for i in range(n):\n",
    "    if a[i][i] == 0.0:\n",
    "        sys.exit('Divide by zero detected!')\n",
    "        \n",
    "    for j in range(n):\n",
    "        if i != j:\n",
    "            ratio = a[j][i]/a[i][i]\n",
    "\n",
    "            for k in range(n+1):\n",
    "                a[j][k] = a[j][k] - ratio * a[i][k]\n",
    "\n",
    "# Obtaining Solution\n",
    "\n",
    "for i in range(n):\n",
    "    x[i] = a[i][n]/a[i][i]\n",
    "\n",
    "# Displaying solution\n",
    "print('\\nRequired solution is: ')\n",
    "for i in range(n):\n",
    "    print('X%d = %0.2f' %(i+1,x[i]), end = '\\t')\n",
    "    "
   ]
  },
  {
   "cell_type": "markdown",
   "metadata": {},
   "source": [
    "### Jacobi Method"
   ]
  },
  {
   "cell_type": "code",
   "execution_count": 70,
   "metadata": {
    "scrolled": true
   },
   "outputs": [
    {
     "name": "stdout",
     "output_type": "stream",
     "text": [
      "Enter tolerable error: 0.0001\n",
      "\n",
      "Count\tx\ty\tz\n",
      "\n",
      "1\t0.8500\t-0.9000\t1.2500\n",
      "\n",
      "2\t1.0200\t-0.9650\t1.0300\n",
      "\n",
      "3\t1.0012\t-1.0015\t1.0032\n",
      "\n",
      "4\t1.0004\t-1.0000\t0.9996\n",
      "\n",
      "5\t1.0000\t-1.0001\t1.0000\n",
      "\n",
      "\n",
      "Solution: x=1.000, y=-1.000 and z = 1.000\n",
      "\n"
     ]
    }
   ],
   "source": [
    "# Defining equations to be solved\n",
    "# in diagonally dominant form\n",
    "#20x + y - 2z = 17\n",
    "#3x + 20y -z = -18\n",
    "#2x - 3y + 20z = 25\n",
    "\n",
    "f1 = lambda x,y,z: (17-y+2*z)/20\n",
    "f2 = lambda x,y,z: (-18-3*x+z)/20\n",
    "f3 = lambda x,y,z: (25-2*x+3*y)/20\n",
    "\n",
    "#x = (17-y+2z)/20\n",
    "#y = (-18-3x+z)/20\n",
    "#z = (25-2x+3y)/20\n",
    "\n",
    "# Initial setup\n",
    "x0 = 0\n",
    "y0 = 0\n",
    "z0 = 0\n",
    "count = 1\n",
    "\n",
    "# Reading tolerable error\n",
    "e = float(input('Enter tolerable error: '))\n",
    "\n",
    "# Implementation of Jacobi Iteration\n",
    "print('\\nCount\\tx\\ty\\tz\\n')\n",
    "\n",
    "condition = True\n",
    "\n",
    "while condition:\n",
    "    x1 = f1(x0,y0,z0)\n",
    "    y1 = f2(x0,y0,z0)\n",
    "    z1 = f3(x0,y0,z0)\n",
    "    print('%d\\t%0.4f\\t%0.4f\\t%0.4f\\n' %(count, x1,y1,z1))\n",
    "    e1 = abs(x0-x1);\n",
    "    e2 = abs(y0-y1);\n",
    "    e3 = abs(z0-z1);\n",
    "    \n",
    "    count += 1\n",
    "    x0 = x1\n",
    "    y0 = y1\n",
    "    z0 = z1\n",
    "    \n",
    "    condition = e1>e and e2>e and e3>e\n",
    "\n",
    "print('\\nSolution: x=%0.3f, y=%0.3f and z = %0.3f\\n'% (x1,y1,z1))"
   ]
  },
  {
   "cell_type": "markdown",
   "metadata": {},
   "source": [
    "### Gauss Seidel Iteration"
   ]
  },
  {
   "cell_type": "code",
   "execution_count": 69,
   "metadata": {},
   "outputs": [
    {
     "name": "stdout",
     "output_type": "stream",
     "text": [
      "Enter tolerable error: 0.0001\n",
      "\n",
      "Count\tx\ty\tz\n",
      "\n",
      "1\t0.8500\t-1.0275\t1.0109\n",
      "\n",
      "2\t1.0025\t-0.9998\t0.9998\n",
      "\n",
      "3\t1.0000\t-1.0000\t1.0000\n",
      "\n",
      "4\t1.0000\t-1.0000\t1.0000\n",
      "\n",
      "\n",
      "Solution: x=1.000, y=-1.000 and z = 1.000\n",
      "\n"
     ]
    }
   ],
   "source": [
    "# Gauss Seidel Iteration\n",
    "\n",
    "# Defining equations to be solved\n",
    "# in diagonally dominant form\n",
    "f1 = lambda x,y,z: (17-y+2*z)/20\n",
    "f2 = lambda x,y,z: (-18-3*x+z)/20\n",
    "f3 = lambda x,y,z: (25-2*x+3*y)/20\n",
    "\n",
    "# Initial setup\n",
    "x0 = 0\n",
    "y0 = 0\n",
    "z0 = 0\n",
    "count = 1\n",
    "\n",
    "# Reading tolerable error\n",
    "e = float(input('Enter tolerable error: '))\n",
    "\n",
    "# Implementation of Gauss Seidel Iteration\n",
    "print('\\nCount\\tx\\ty\\tz\\n')\n",
    "\n",
    "condition = True\n",
    "\n",
    "while condition:\n",
    "    x1 = f1(x0,y0,z0)\n",
    "    y1 = f2(x1,y0,z0)\n",
    "    z1 = f3(x1,y1,z0)\n",
    "    print('%d\\t%0.4f\\t%0.4f\\t%0.4f\\n' %(count, x1,y1,z1))\n",
    "    e1 = abs(x0-x1);\n",
    "    e2 = abs(y0-y1);\n",
    "    e3 = abs(z0-z1);\n",
    "    \n",
    "    count += 1\n",
    "    x0 = x1\n",
    "    y0 = y1\n",
    "    z0 = z1\n",
    "    \n",
    "    condition = e1>e and e2>e and e3>e\n",
    "\n",
    "print('\\nSolution: x=%0.3f, y=%0.3f and z = %0.3f\\n'% (x1,y1,z1))"
   ]
  },
  {
   "cell_type": "code",
   "execution_count": null,
   "metadata": {},
   "outputs": [],
   "source": []
  }
 ],
 "metadata": {
  "kernelspec": {
   "display_name": "Python 3",
   "language": "python",
   "name": "python3"
  },
  "language_info": {
   "codemirror_mode": {
    "name": "ipython",
    "version": 3
   },
   "file_extension": ".py",
   "mimetype": "text/x-python",
   "name": "python",
   "nbconvert_exporter": "python",
   "pygments_lexer": "ipython3",
   "version": "3.7.3"
  }
 },
 "nbformat": 4,
 "nbformat_minor": 2
}
